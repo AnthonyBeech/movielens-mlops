{
 "cells": [
  {
   "cell_type": "markdown",
   "metadata": {},
   "source": [
    "# EDA Notebook for movielens dataset"
   ]
  },
  {
   "cell_type": "markdown",
   "metadata": {},
   "source": [
    "### Downloading data"
   ]
  },
  {
   "cell_type": "code",
   "execution_count": 1,
   "metadata": {},
   "outputs": [],
   "source": [
    "%load_ext autoreload\n",
    "%autoreload 2"
   ]
  },
  {
   "cell_type": "code",
   "execution_count": 8,
   "metadata": {},
   "outputs": [],
   "source": [
    "from movielens.dataset import get_dataset"
   ]
  },
  {
   "cell_type": "code",
   "execution_count": 5,
   "metadata": {},
   "outputs": [],
   "source": [
    "DATA_DIR = \"../data/movielens/\""
   ]
  },
  {
   "cell_type": "code",
   "execution_count": 10,
   "metadata": {},
   "outputs": [
    {
     "name": "stderr",
     "output_type": "stream",
     "text": [
      "2025-01-13 17:36:02 [INFO] movielens.dataset: Downloading ml-32m.zip from https://files.grouplens.org/datasets/movielens/ml-32m.zip...\n",
      "ml-32m.zip: 100%|██████████| 233k/233k [01:52<00:00, 2.08kKB/s] \n",
      "2025-01-13 17:37:55 [INFO] movielens.dataset: Download complete. File saved to ..\\data\\movielens\\ml-32m.zip\n",
      "2025-01-13 17:38:01 [INFO] movielens.dataset: Extraction complete. Files have been unzipped to: ..\\data\\movielens\n"
     ]
    }
   ],
   "source": [
    "get_dataset(save_dir=DATA_DIR)"
   ]
  },
  {
   "cell_type": "code",
   "execution_count": 13,
   "metadata": {},
   "outputs": [],
   "source": [
    "from pathlib import Path\n",
    "\n",
    "import pandas as pd"
   ]
  },
  {
   "cell_type": "code",
   "execution_count": 18,
   "metadata": {},
   "outputs": [],
   "source": [
    "DATA_PARENT = Path(DATA_DIR) / \"ml-32m\"\n",
    "LINKS = DATA_PARENT / \"links.csv\"\n",
    "MOVIES = DATA_PARENT / \"movies.csv\"\n",
    "RATINGS = DATA_PARENT / \"ratings.csv\"\n",
    "TAGS = DATA_PARENT / \"tags.csv\""
   ]
  },
  {
   "cell_type": "markdown",
   "metadata": {},
   "source": [
    "### Datset dfs"
   ]
  },
  {
   "cell_type": "code",
   "execution_count": 20,
   "metadata": {},
   "outputs": [],
   "source": [
    "df_links = pd.read_csv(LINKS)\n",
    "df_movies = pd.read_csv(MOVIES)\n",
    "df_ratings = pd.read_csv(RATINGS)\n",
    "df_tags = pd.read_csv(TAGS)"
   ]
  },
  {
   "cell_type": "markdown",
   "metadata": {},
   "source": [
    "### Initial Explo"
   ]
  },
  {
   "cell_type": "code",
   "execution_count": 21,
   "metadata": {},
   "outputs": [
    {
     "data": {
      "text/html": [
       "<div>\n",
       "<style scoped>\n",
       "    .dataframe tbody tr th:only-of-type {\n",
       "        vertical-align: middle;\n",
       "    }\n",
       "\n",
       "    .dataframe tbody tr th {\n",
       "        vertical-align: top;\n",
       "    }\n",
       "\n",
       "    .dataframe thead th {\n",
       "        text-align: right;\n",
       "    }\n",
       "</style>\n",
       "<table border=\"1\" class=\"dataframe\">\n",
       "  <thead>\n",
       "    <tr style=\"text-align: right;\">\n",
       "      <th></th>\n",
       "      <th>movieId</th>\n",
       "      <th>imdbId</th>\n",
       "      <th>tmdbId</th>\n",
       "    </tr>\n",
       "  </thead>\n",
       "  <tbody>\n",
       "    <tr>\n",
       "      <th>0</th>\n",
       "      <td>1</td>\n",
       "      <td>114709</td>\n",
       "      <td>862.0</td>\n",
       "    </tr>\n",
       "    <tr>\n",
       "      <th>1</th>\n",
       "      <td>2</td>\n",
       "      <td>113497</td>\n",
       "      <td>8844.0</td>\n",
       "    </tr>\n",
       "    <tr>\n",
       "      <th>2</th>\n",
       "      <td>3</td>\n",
       "      <td>113228</td>\n",
       "      <td>15602.0</td>\n",
       "    </tr>\n",
       "    <tr>\n",
       "      <th>3</th>\n",
       "      <td>4</td>\n",
       "      <td>114885</td>\n",
       "      <td>31357.0</td>\n",
       "    </tr>\n",
       "    <tr>\n",
       "      <th>4</th>\n",
       "      <td>5</td>\n",
       "      <td>113041</td>\n",
       "      <td>11862.0</td>\n",
       "    </tr>\n",
       "  </tbody>\n",
       "</table>\n",
       "</div>"
      ],
      "text/plain": [
       "   movieId  imdbId   tmdbId\n",
       "0        1  114709    862.0\n",
       "1        2  113497   8844.0\n",
       "2        3  113228  15602.0\n",
       "3        4  114885  31357.0\n",
       "4        5  113041  11862.0"
      ]
     },
     "execution_count": 21,
     "metadata": {},
     "output_type": "execute_result"
    }
   ],
   "source": [
    "df_links.head()"
   ]
  },
  {
   "cell_type": "code",
   "execution_count": 22,
   "metadata": {},
   "outputs": [
    {
     "data": {
      "text/html": [
       "<div>\n",
       "<style scoped>\n",
       "    .dataframe tbody tr th:only-of-type {\n",
       "        vertical-align: middle;\n",
       "    }\n",
       "\n",
       "    .dataframe tbody tr th {\n",
       "        vertical-align: top;\n",
       "    }\n",
       "\n",
       "    .dataframe thead th {\n",
       "        text-align: right;\n",
       "    }\n",
       "</style>\n",
       "<table border=\"1\" class=\"dataframe\">\n",
       "  <thead>\n",
       "    <tr style=\"text-align: right;\">\n",
       "      <th></th>\n",
       "      <th>movieId</th>\n",
       "      <th>title</th>\n",
       "      <th>genres</th>\n",
       "    </tr>\n",
       "  </thead>\n",
       "  <tbody>\n",
       "    <tr>\n",
       "      <th>0</th>\n",
       "      <td>1</td>\n",
       "      <td>Toy Story (1995)</td>\n",
       "      <td>Adventure|Animation|Children|Comedy|Fantasy</td>\n",
       "    </tr>\n",
       "    <tr>\n",
       "      <th>1</th>\n",
       "      <td>2</td>\n",
       "      <td>Jumanji (1995)</td>\n",
       "      <td>Adventure|Children|Fantasy</td>\n",
       "    </tr>\n",
       "    <tr>\n",
       "      <th>2</th>\n",
       "      <td>3</td>\n",
       "      <td>Grumpier Old Men (1995)</td>\n",
       "      <td>Comedy|Romance</td>\n",
       "    </tr>\n",
       "    <tr>\n",
       "      <th>3</th>\n",
       "      <td>4</td>\n",
       "      <td>Waiting to Exhale (1995)</td>\n",
       "      <td>Comedy|Drama|Romance</td>\n",
       "    </tr>\n",
       "    <tr>\n",
       "      <th>4</th>\n",
       "      <td>5</td>\n",
       "      <td>Father of the Bride Part II (1995)</td>\n",
       "      <td>Comedy</td>\n",
       "    </tr>\n",
       "  </tbody>\n",
       "</table>\n",
       "</div>"
      ],
      "text/plain": [
       "   movieId                               title  \\\n",
       "0        1                    Toy Story (1995)   \n",
       "1        2                      Jumanji (1995)   \n",
       "2        3             Grumpier Old Men (1995)   \n",
       "3        4            Waiting to Exhale (1995)   \n",
       "4        5  Father of the Bride Part II (1995)   \n",
       "\n",
       "                                        genres  \n",
       "0  Adventure|Animation|Children|Comedy|Fantasy  \n",
       "1                   Adventure|Children|Fantasy  \n",
       "2                               Comedy|Romance  \n",
       "3                         Comedy|Drama|Romance  \n",
       "4                                       Comedy  "
      ]
     },
     "execution_count": 22,
     "metadata": {},
     "output_type": "execute_result"
    }
   ],
   "source": [
    "df_movies.head()"
   ]
  },
  {
   "cell_type": "code",
   "execution_count": 23,
   "metadata": {},
   "outputs": [
    {
     "data": {
      "text/html": [
       "<div>\n",
       "<style scoped>\n",
       "    .dataframe tbody tr th:only-of-type {\n",
       "        vertical-align: middle;\n",
       "    }\n",
       "\n",
       "    .dataframe tbody tr th {\n",
       "        vertical-align: top;\n",
       "    }\n",
       "\n",
       "    .dataframe thead th {\n",
       "        text-align: right;\n",
       "    }\n",
       "</style>\n",
       "<table border=\"1\" class=\"dataframe\">\n",
       "  <thead>\n",
       "    <tr style=\"text-align: right;\">\n",
       "      <th></th>\n",
       "      <th>userId</th>\n",
       "      <th>movieId</th>\n",
       "      <th>rating</th>\n",
       "      <th>timestamp</th>\n",
       "    </tr>\n",
       "  </thead>\n",
       "  <tbody>\n",
       "    <tr>\n",
       "      <th>0</th>\n",
       "      <td>1</td>\n",
       "      <td>17</td>\n",
       "      <td>4.0</td>\n",
       "      <td>944249077</td>\n",
       "    </tr>\n",
       "    <tr>\n",
       "      <th>1</th>\n",
       "      <td>1</td>\n",
       "      <td>25</td>\n",
       "      <td>1.0</td>\n",
       "      <td>944250228</td>\n",
       "    </tr>\n",
       "    <tr>\n",
       "      <th>2</th>\n",
       "      <td>1</td>\n",
       "      <td>29</td>\n",
       "      <td>2.0</td>\n",
       "      <td>943230976</td>\n",
       "    </tr>\n",
       "    <tr>\n",
       "      <th>3</th>\n",
       "      <td>1</td>\n",
       "      <td>30</td>\n",
       "      <td>5.0</td>\n",
       "      <td>944249077</td>\n",
       "    </tr>\n",
       "    <tr>\n",
       "      <th>4</th>\n",
       "      <td>1</td>\n",
       "      <td>32</td>\n",
       "      <td>5.0</td>\n",
       "      <td>943228858</td>\n",
       "    </tr>\n",
       "  </tbody>\n",
       "</table>\n",
       "</div>"
      ],
      "text/plain": [
       "   userId  movieId  rating  timestamp\n",
       "0       1       17     4.0  944249077\n",
       "1       1       25     1.0  944250228\n",
       "2       1       29     2.0  943230976\n",
       "3       1       30     5.0  944249077\n",
       "4       1       32     5.0  943228858"
      ]
     },
     "execution_count": 23,
     "metadata": {},
     "output_type": "execute_result"
    }
   ],
   "source": [
    "df_ratings.head()"
   ]
  },
  {
   "cell_type": "code",
   "execution_count": 24,
   "metadata": {},
   "outputs": [
    {
     "data": {
      "text/html": [
       "<div>\n",
       "<style scoped>\n",
       "    .dataframe tbody tr th:only-of-type {\n",
       "        vertical-align: middle;\n",
       "    }\n",
       "\n",
       "    .dataframe tbody tr th {\n",
       "        vertical-align: top;\n",
       "    }\n",
       "\n",
       "    .dataframe thead th {\n",
       "        text-align: right;\n",
       "    }\n",
       "</style>\n",
       "<table border=\"1\" class=\"dataframe\">\n",
       "  <thead>\n",
       "    <tr style=\"text-align: right;\">\n",
       "      <th></th>\n",
       "      <th>userId</th>\n",
       "      <th>movieId</th>\n",
       "      <th>tag</th>\n",
       "      <th>timestamp</th>\n",
       "    </tr>\n",
       "  </thead>\n",
       "  <tbody>\n",
       "    <tr>\n",
       "      <th>0</th>\n",
       "      <td>22</td>\n",
       "      <td>26479</td>\n",
       "      <td>Kevin Kline</td>\n",
       "      <td>1583038886</td>\n",
       "    </tr>\n",
       "    <tr>\n",
       "      <th>1</th>\n",
       "      <td>22</td>\n",
       "      <td>79592</td>\n",
       "      <td>misogyny</td>\n",
       "      <td>1581476297</td>\n",
       "    </tr>\n",
       "    <tr>\n",
       "      <th>2</th>\n",
       "      <td>22</td>\n",
       "      <td>247150</td>\n",
       "      <td>acrophobia</td>\n",
       "      <td>1622483469</td>\n",
       "    </tr>\n",
       "    <tr>\n",
       "      <th>3</th>\n",
       "      <td>34</td>\n",
       "      <td>2174</td>\n",
       "      <td>music</td>\n",
       "      <td>1249808064</td>\n",
       "    </tr>\n",
       "    <tr>\n",
       "      <th>4</th>\n",
       "      <td>34</td>\n",
       "      <td>2174</td>\n",
       "      <td>weird</td>\n",
       "      <td>1249808102</td>\n",
       "    </tr>\n",
       "  </tbody>\n",
       "</table>\n",
       "</div>"
      ],
      "text/plain": [
       "   userId  movieId          tag   timestamp\n",
       "0      22    26479  Kevin Kline  1583038886\n",
       "1      22    79592     misogyny  1581476297\n",
       "2      22   247150   acrophobia  1622483469\n",
       "3      34     2174        music  1249808064\n",
       "4      34     2174        weird  1249808102"
      ]
     },
     "execution_count": 24,
     "metadata": {},
     "output_type": "execute_result"
    }
   ],
   "source": [
    "df_tags.head()"
   ]
  },
  {
   "cell_type": "code",
   "execution_count": 46,
   "metadata": {},
   "outputs": [],
   "source": [
    "from movielens.analysis import print_column_checks"
   ]
  },
  {
   "cell_type": "code",
   "execution_count": 55,
   "metadata": {},
   "outputs": [
    {
     "name": "stdout",
     "output_type": "stream",
     "text": [
      "Column: movieId\n",
      "  dups: 0\n",
      "  distin: 0\n",
      "  uniq: 87585\n",
      "  miss: 0\n",
      "  count: {}\n",
      "----------------------------------------\n",
      "Column: imdbId\n",
      "  dups: 0\n",
      "  distin: 0\n",
      "  uniq: 87585\n",
      "  miss: 0\n",
      "  count: {}\n",
      "----------------------------------------\n",
      "Column: tmdbId\n",
      "  dups: 160\n",
      "  distin: 36\n",
      "  uniq: 87425\n",
      "  miss: 124\n",
      "  count: {21753.0: 2, 132641.0: 2, 34696.0: 2, 24487.0: 2, 15028.0: 2, 97995.0: 2, 10991.0: 2, 79782.0: 2, 46667.0: 2, 413765.0: 2, 9775.0: 2, 12600.0: 2, 19666.0: 2, 84198.0: 2, 30508.0: 2, 298721.0: 2, 13020.0: 2, 4912.0: 2, 372631.0: 2, 45555.0: 2}\n",
      "----------------------------------------\n"
     ]
    }
   ],
   "source": [
    "print_column_checks(df_links)"
   ]
  },
  {
   "cell_type": "code",
   "execution_count": 54,
   "metadata": {},
   "outputs": [
    {
     "name": "stdout",
     "output_type": "stream",
     "text": [
      "Column: movieId\n",
      "  dups: 0\n",
      "  distin: 0\n",
      "  uniq: 87585\n",
      "  miss: 0\n",
      "  count: {}\n",
      "----------------------------------------\n",
      "Column: title\n",
      "  dups: 203\n",
      "  distin: 198\n",
      "  uniq: 87382\n",
      "  miss: 0\n",
      "  count: {'Alone (2020)': 4, 'The Plague (2006)': 3, 'Journey to the Center of the Earth (2008)': 3, 'The Box (2021)': 3, 'An Inspector Calls (2015)': 2, 'The Midnight Man (2016)': 2, 'The Box (2003)': 2, 'The Tunnel (2016)': 2, 'Hide (2011)': 2, 'ATM (2012)': 2, 'The Dream Team (2012)': 2, 'Ecstasy (2011)': 2, 'Eros (2004)': 2, 'Taxi (2015)': 2, 'Weekend (2011)': 2, 'Left for Dead (2007)': 2, 'Savage (2011)': 2, 'The Promise (2016)': 2, 'Beneath (2013)': 2, 'Absolution (2015)': 2}\n",
      "----------------------------------------\n",
      "Column: genres\n",
      "  dups: 85787\n",
      "  distin: 1050\n",
      "  uniq: 1798\n",
      "  miss: 0\n",
      "  count: {'Drama': 12443, 'Documentary': 8132, 'Comedy': 7761, '(no genres listed)': 7080, 'Comedy|Drama': 3245, 'Drama|Romance': 2825, 'Horror': 2487, 'Comedy|Romance': 2229, 'Thriller': 1410, 'Comedy|Drama|Romance': 1335, 'Drama|Thriller': 1281, 'Horror|Thriller': 1242, 'Crime|Drama': 1150, 'Animation': 1120, 'Drama|War': 818, 'Action': 789, 'Action|Drama': 696, 'Western': 686, 'Crime|Drama|Thriller': 655, 'Romance': 645}\n",
      "----------------------------------------\n"
     ]
    }
   ],
   "source": [
    "print_column_checks(df_movies)"
   ]
  },
  {
   "cell_type": "code",
   "execution_count": 53,
   "metadata": {},
   "outputs": [
    {
     "name": "stdout",
     "output_type": "stream",
     "text": [
      "Column: userId\n",
      "  dups: 31799256\n",
      "  distin: 200948\n",
      "  uniq: 200948\n",
      "  miss: 0\n",
      "  count: {175325: 33332, 17035: 9577, 55653: 9178, 123465: 9044, 171795: 9016, 10202: 7748, 198515: 7594, 49305: 7488, 22744: 7372, 7858: 7322, 14674: 6407, 53192: 6265, 133878: 6074, 57304: 6061, 129705: 5812, 139018: 5806, 43703: 5784, 68797: 5693, 103925: 5655, 119247: 5654}\n",
      "----------------------------------------\n",
      "Column: movieId\n",
      "  dups: 31915772\n",
      "  distin: 65825\n",
      "  uniq: 84432\n",
      "  miss: 0\n",
      "  count: {318: 102929, 356: 100296, 296: 98409, 2571: 93808, 593: 90330, 260: 85010, 2959: 77332, 480: 75233, 527: 73849, 4993: 73122, 1196: 72151, 110: 69482, 1: 68997, 589: 68383, 50: 67750, 1210: 67496, 5952: 67463, 7153: 67449, 1198: 67408, 858: 66440}\n",
      "----------------------------------------\n",
      "Column: rating\n",
      "  dups: 32000194\n",
      "  distin: 10\n",
      "  uniq: 10\n",
      "  miss: 0\n",
      "  count: {4.0: 8367654, 3.0: 6054990, 5.0: 4596577, 3.5: 4290105, 4.5: 2974000, 2.0: 2028622, 2.5: 1685386, 1.0: 946675, 1.5: 531063, 0.5: 525132}\n",
      "----------------------------------------\n",
      "Column: timestamp\n",
      "  dups: 6023681\n",
      "  distin: 2586013\n",
      "  uniq: 25976523\n",
      "  miss: 0\n",
      "  count: {825638400: 636, 1485450595: 279, 1462647814: 256, 1490758295: 223, 1469059264: 220, 1267135219: 202, 1458257206: 201, 1460577644: 199, 1466010762: 199, 1495385322: 197, 1462647811: 196, 1494615460: 196, 1493479188: 191, 1462647812: 191, 1462647810: 191, 1462188550: 189, 1494383009: 188, 1463307080: 185, 1460617940: 184, 1496134811: 183}\n",
      "----------------------------------------\n"
     ]
    }
   ],
   "source": [
    "print_column_checks(df_ratings)"
   ]
  },
  {
   "cell_type": "code",
   "execution_count": 51,
   "metadata": {},
   "outputs": [
    {
     "name": "stdout",
     "output_type": "stream",
     "text": [
      "Column: userId\n",
      "  dups: 1984224\n",
      "  distin: 13270\n",
      "  uniq: 15848\n",
      "  miss: 0\n",
      "  count: {78213: 723473, 119227: 20369, 68821: 20317, 147560: 18849, 159300: 16843, 34874: 13838, 17035: 12829, 34458: 12735, 102040: 12681, 123480: 11551, 98941: 10582, 144253: 10381, 105590: 10167, 6324: 9636, 159555: 8468, 151456: 7984, 29623: 7124, 104632: 7114, 135375: 6684, 117845: 6599}\n",
      "----------------------------------------\n",
      "Column: movieId\n",
      "  dups: 1948749\n",
      "  distin: 43641\n",
      "  uniq: 51323\n",
      "  miss: 0\n",
      "  count: {296: 6697, 79132: 6568, 260: 6519, 2571: 5722, 2959: 5532, 109487: 5477, 318: 4892, 4226: 3808, 7361: 3683, 356: 3581, 593: 3469, 164179: 3420, 4878: 3260, 4973: 3230, 202439: 3052, 115713: 3044, 541: 3009, 48780: 2972, 2858: 2896, 74458: 2845}\n",
      "----------------------------------------\n",
      "Column: tag\n",
      "  dups: 1859093\n",
      "  distin: 67804\n",
      "  uniq: 140979\n",
      "  miss: 17\n",
      "  count: {'sci-fi': 10996, 'atmospheric': 9589, 'action': 8473, 'comedy': 8139, 'funny': 7467, 'surreal': 7231, 'visually appealing': 7090, 'based on a book': 6617, 'twist ending': 6521, 'dark comedy': 6053, 'thought-provoking': 6000, 'dystopia': 5646, 'violence': 5389, 'cinematography': 5277, 'romance': 5271, 'murder': 5180, 'social commentary': 5152, 'stylized': 4917, 'fantasy': 4844, 'psychology': 4827}\n",
      "----------------------------------------\n",
      "Column: timestamp\n",
      "  dups: 708822\n",
      "  distin: 62433\n",
      "  uniq: 1291250\n",
      "  miss: 0\n",
      "  count: {1525965754: 209, 1525965755: 204, 1525965752: 202, 1525965756: 178, 1525965753: 173, 1613552239: 148, 1613550296: 147, 1625294226: 147, 1612594572: 147, 1612508399: 146, 1614910742: 146, 1612510279: 146, 1613984268: 146, 1618625997: 146, 1612510396: 145, 1647409935: 145, 1612511924: 144, 1618627761: 144, 1612512392: 143, 1612510437: 143}\n",
      "----------------------------------------\n"
     ]
    }
   ],
   "source": [
    "print_column_checks(df_tags)"
   ]
  },
  {
   "cell_type": "markdown",
   "metadata": {},
   "source": [
    "### Summary of Data\n",
    "\n",
    "Split into 4 parts (links, movies, ratings, tags)\n",
    "\n",
    "Main keys are userId, movieId which connect the four tables\n",
    "\n",
    "* links: \n",
    "  * movieId \n",
    "  * imdbId \n",
    "  * tmdbId \n",
    "  * 87k rows\n",
    "  * Ids not well distributed, there is some risk if using as a feature\n",
    "  * Some duplicate Ids in tmdbId, random and only ever 1 other dup. Total 160\n",
    "* movies: \n",
    "  * movieId \n",
    "  * title \n",
    "  * genres (split by |) \n",
    "  * 87k rows\n",
    "  * Some duplicate titles around 200, seems to be different to dup ids in tmdbId\n",
    "  * 1800 distinct genres, 1000 used more than once. \n",
    "* ratings: \n",
    "  * userId \n",
    "  * movieId \n",
    "  * rating \n",
    "  * timestamp \n",
    "  * 32m rows\n",
    "  * Ratings very unevenly distributed, as expected\n",
    "  * Some variation in time stamp quite variable\n",
    "  * userId well distributed\n",
    "  * big variety in reviews per user, max is 30K!\n",
    "  * about 20k movies with 1 review?\n",
    "  * Quite a bit of duplication in timestamp too\n",
    "\n",
    "* tags: \n",
    "  * userId \n",
    "  * movieId \n",
    "  * tag \n",
    "  * timestamp \n",
    "  * 2m rows\n",
    "  * weir spike in userId, seems like 1 user did all the tagging???\n",
    "  * smaller movieId have much more tags\n",
    "  * Most of tagging done at 3 distinct times\n",
    "  * Some null tag in the data\n",
    "  * 67k distinct tags. Likely big variey in usage\n"
   ]
  },
  {
   "cell_type": "markdown",
   "metadata": {},
   "source": [
    "### Plots"
   ]
  },
  {
   "cell_type": "code",
   "execution_count": 52,
   "metadata": {},
   "outputs": [
    {
     "data": {
      "text/plain": [
       "array([[<Axes: title={'center': 'userId'}>,\n",
       "        <Axes: title={'center': 'movieId'}>],\n",
       "       [<Axes: title={'center': 'timestamp'}>, <Axes: >]], dtype=object)"
      ]
     },
     "execution_count": 52,
     "metadata": {},
     "output_type": "execute_result"
    },
    {
     "data": {
      "image/png": "[encoded data removed]",
      "text/plain": [
       "<Figure size 640x480 with 4 Axes>"
      ]
     },
     "metadata": {},
     "output_type": "display_data"
    }
   ],
   "source": [
    "df_tags.hist(bins=200)"
   ]
  },
  {
   "cell_type": "code",
   "execution_count": 50,
   "metadata": {},
   "outputs": [
    {
     "data": {
      "text/plain": [
       "array([[<Axes: title={'center': 'userId'}>,\n",
       "        <Axes: title={'center': 'movieId'}>],\n",
       "       [<Axes: title={'center': 'rating'}>,\n",
       "        <Axes: title={'center': 'timestamp'}>]], dtype=object)"
      ]
     },
     "execution_count": 50,
     "metadata": {},
     "output_type": "execute_result"
    },
    {
     "data": {
      "image/png": "[encoded data removed]",
      "text/plain": [
       "<Figure size 640x480 with 4 Axes>"
      ]
     },
     "metadata": {},
     "output_type": "display_data"
    }
   ],
   "source": [
    "df_ratings.hist(bins=200)"
   ]
  },
  {
   "cell_type": "code",
   "execution_count": 38,
   "metadata": {},
   "outputs": [
    {
     "data": {
      "text/plain": [
       "array([[<Axes: title={'center': 'movieId'}>]], dtype=object)"
      ]
     },
     "execution_count": 38,
     "metadata": {},
     "output_type": "execute_result"
    },
    {
     "data": {
      "image/png": "[encoded data removed]",
      "text/plain": [
       "<Figure size 640x480 with 1 Axes>"
      ]
     },
     "metadata": {},
     "output_type": "display_data"
    }
   ],
   "source": [
    "df_movies.hist(bins=200)"
   ]
  },
  {
   "cell_type": "code",
   "execution_count": 32,
   "metadata": {},
   "outputs": [
    {
     "data": {
      "text/plain": [
       "array([[<Axes: title={'center': 'movieId'}>,\n",
       "        <Axes: title={'center': 'imdbId'}>],\n",
       "       [<Axes: title={'center': 'tmdbId'}>, <Axes: >]], dtype=object)"
      ]
     },
     "execution_count": 32,
     "metadata": {},
     "output_type": "execute_result"
    },
    {
     "data": {
      "image/png": "[encoded data removed]",
      "text/plain": [
       "<Figure size 640x480 with 4 Axes>"
      ]
     },
     "metadata": {},
     "output_type": "display_data"
    }
   ],
   "source": [
    "df_links.hist(bins=200)"
   ]
  }
 ],
 "metadata": {
  "kernelspec": {
   "display_name": ".venv",
   "language": "python",
   "name": "python3"
  },
  "language_info": {
   "codemirror_mode": {
    "name": "ipython",
    "version": 3
   },
   "file_extension": ".py",
   "mimetype": "text/x-python",
   "name": "python",
   "nbconvert_exporter": "python",
   "pygments_lexer": "ipython3",
   "version": "3.11.11"
  }
 },
 "nbformat": 4,
 "nbformat_minor": 2
}
